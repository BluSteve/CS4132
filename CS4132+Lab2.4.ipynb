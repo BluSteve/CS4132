{
 "cells": [
  {
   "cell_type": "markdown",
   "metadata": {},
   "source": [
    "<P> <img src=\"https://i.ibb.co/gyNf19D/nhslogo.png\" alt=\"nhslogo\" border=\"0\" width=\"100\" align=\"right\"><font size=\"6\"><b> CS4132 Data Analytics</b> </font>"
   ]
  },
  {
   "cell_type": "markdown",
   "metadata": {},
   "source": [
    "# Lab 2.4: NumPy Array"
   ]
  },
  {
   "cell_type": "markdown",
   "metadata": {},
   "source": [
    "## (Section 2.5) Manipulating an Array"
   ]
  },
  {
   "cell_type": "markdown",
   "metadata": {},
   "source": [
    "Complete the following questions and upload your `.ipynb` file to Coursemology.\n",
    "\n",
    "Name the file in the following format:\n",
    "\n",
    "`Lab<Num><YourName>.ipynb`\n",
    "\n",
    "Note that for each question, you should shortlist at least 3 non-trivial test cases to show the correctness of your solution."
   ]
  },
  {
   "cell_type": "markdown",
   "metadata": {},
   "source": [
    "### Q1"
   ]
  },
  {
   "cell_type": "markdown",
   "metadata": {},
   "source": [
    "Create a function named `border()` which will\n",
    "\n",
    "<ul>\n",
    "<li><span lang=\"EN-GB\">take in an argument&nbsp;<em>n&nbsp;</em>denoting the size of a 2D array</span></li>\n",
    "<li><span lang=\"EN-GB\">create a 2D array of shape&nbsp;<em>n</em>&nbsp;by&nbsp;<em>n</em>&nbsp;with 1 on the border and 0 inside</span></li>\n",
    "<li><span lang=\"EN-GB\">finally return the array created.</span></li>\n",
    "</ul>\n",
    "<p>For example, if&nbsp;<em>n</em>&nbsp;is 5, the following array will be returned:</p>\n",
    "<pre>[[1. 1. 1. 1. 1.]\n",
    " [1. 0. 0. 0. 1.]\n",
    " [1. 0. 0. 0. 1.]\n",
    " [1. 0. 0. 0. 1.]\n",
    " [1. 1. 1. 1. 1.]]</pre>"
   ]
  },
  {
   "cell_type": "code",
   "execution_count": 13,
   "metadata": {},
   "outputs": [],
   "source": [
    "#your solution\n",
    "import numpy as np\n",
    "def border(n):\n",
    "    t = np.zeros((n,n))\n",
    "    t[(0,-1),:]=1.\n",
    "    t[:,(0,-1)]=1.\n",
    "    return t"
   ]
  },
  {
   "cell_type": "markdown",
   "metadata": {},
   "source": [
    "Show how you test the correctness of your code below:"
   ]
  },
  {
   "cell_type": "code",
   "execution_count": 14,
   "metadata": {},
   "outputs": [
    {
     "data": {
      "text/plain": [
       "array([[1., 1., 1., 1., 1.],\n",
       "       [1., 0., 0., 0., 1.],\n",
       "       [1., 0., 0., 0., 1.],\n",
       "       [1., 0., 0., 0., 1.],\n",
       "       [1., 1., 1., 1., 1.]])"
      ]
     },
     "execution_count": 14,
     "metadata": {},
     "output_type": "execute_result"
    }
   ],
   "source": [
    "border(5)"
   ]
  },
  {
   "cell_type": "code",
   "execution_count": 15,
   "metadata": {},
   "outputs": [
    {
     "data": {
      "text/plain": [
       "array([[1., 1.],\n",
       "       [1., 1.]])"
      ]
     },
     "execution_count": 15,
     "metadata": {},
     "output_type": "execute_result"
    }
   ],
   "source": [
    "border(2)"
   ]
  },
  {
   "cell_type": "code",
   "execution_count": 16,
   "metadata": {
    "scrolled": true
   },
   "outputs": [
    {
     "data": {
      "text/plain": [
       "array([[1., 1., 1., 1., 1., 1., 1.],\n",
       "       [1., 0., 0., 0., 0., 0., 1.],\n",
       "       [1., 0., 0., 0., 0., 0., 1.],\n",
       "       [1., 0., 0., 0., 0., 0., 1.],\n",
       "       [1., 0., 0., 0., 0., 0., 1.],\n",
       "       [1., 0., 0., 0., 0., 0., 1.],\n",
       "       [1., 1., 1., 1., 1., 1., 1.]])"
      ]
     },
     "execution_count": 16,
     "metadata": {},
     "output_type": "execute_result"
    }
   ],
   "source": [
    "border(7)"
   ]
  },
  {
   "cell_type": "markdown",
   "metadata": {},
   "source": [
    "### Q2"
   ]
  },
  {
   "cell_type": "markdown",
   "metadata": {},
   "source": [
    "Create a function named `checkerBoard()` which will\n",
    "<ul>\n",
    "<li><span lang=\"EN-GB\">take in an argument&nbsp;<em>n&nbsp;</em>denoting the size of a 2D array</span></li>\n",
    "<li><span lang=\"EN-GB\">create a 2D array of shape&nbsp;<em>n</em>&nbsp;by&nbsp;<em>n</em></span>&nbsp;with a checkerboard pattern.&nbsp;</li>\n",
    "<li><span lang=\"EN-GB\">finally return the array created.</span></li>\n",
    "</ul>\n",
    "<p>For example, if&nbsp;<em>n&nbsp;</em>is 8, the following array will be returned:</p>\n",
    "<pre>[[0, 1, 0, 1, 0, 1, 0, 1],<br /> [1, 0, 1, 0, 1, 0, 1, 0],<br /> [0, 1, 0, 1, 0, 1, 0, 1],<br /> [1, 0, 1, 0, 1, 0, 1, 0],<br /> [0, 1, 0, 1, 0, 1, 0, 1],<br /> [1, 0, 1, 0, 1, 0, 1, 0],<br /> [0, 1, 0, 1, 0, 1, 0, 1],<br /> [1, 0, 1, 0, 1, 0, 1, 0]]</pre>"
   ]
  },
  {
   "cell_type": "code",
   "execution_count": 25,
   "metadata": {},
   "outputs": [],
   "source": [
    "#your solution\n",
    "def checkerBoard(n):\n",
    "    t = np.zeros((n,n))\n",
    "    t[::2,::2]=1.\n",
    "    t[1::2,1::2]=1.\n",
    "    return t"
   ]
  },
  {
   "cell_type": "markdown",
   "metadata": {},
   "source": [
    "Show how you test the correctness of your code below:"
   ]
  },
  {
   "cell_type": "code",
   "execution_count": 26,
   "metadata": {},
   "outputs": [
    {
     "data": {
      "text/plain": [
       "array([[1., 0., 1., 0., 1.],\n",
       "       [0., 1., 0., 1., 0.],\n",
       "       [1., 0., 1., 0., 1.],\n",
       "       [0., 1., 0., 1., 0.],\n",
       "       [1., 0., 1., 0., 1.]])"
      ]
     },
     "execution_count": 26,
     "metadata": {},
     "output_type": "execute_result"
    }
   ],
   "source": [
    "checkerBoard(5)"
   ]
  },
  {
   "cell_type": "code",
   "execution_count": 27,
   "metadata": {},
   "outputs": [
    {
     "data": {
      "text/plain": [
       "array([[1., 0., 1., 0., 1., 0., 1.],\n",
       "       [0., 1., 0., 1., 0., 1., 0.],\n",
       "       [1., 0., 1., 0., 1., 0., 1.],\n",
       "       [0., 1., 0., 1., 0., 1., 0.],\n",
       "       [1., 0., 1., 0., 1., 0., 1.],\n",
       "       [0., 1., 0., 1., 0., 1., 0.],\n",
       "       [1., 0., 1., 0., 1., 0., 1.]])"
      ]
     },
     "execution_count": 27,
     "metadata": {},
     "output_type": "execute_result"
    }
   ],
   "source": [
    "checkerBoard(7)"
   ]
  },
  {
   "cell_type": "code",
   "execution_count": 28,
   "metadata": {},
   "outputs": [
    {
     "data": {
      "text/plain": [
       "array([[1., 0.],\n",
       "       [0., 1.]])"
      ]
     },
     "execution_count": 28,
     "metadata": {},
     "output_type": "execute_result"
    }
   ],
   "source": [
    "checkerBoard(2)"
   ]
  },
  {
   "cell_type": "markdown",
   "metadata": {},
   "source": [
    "### Q3"
   ]
  },
  {
   "cell_type": "markdown",
   "metadata": {},
   "source": [
    "Create a function named `swap()` which will\n",
    "<ul>\n",
    "<li><span lang=\"EN-GB\">take in 3 argument, <em>arr</em>,&nbsp;<em>a&nbsp;</em>and&nbsp;<em>b</em></span></li>\n",
    "<li>it will then swap the contents of <span lang=\"EN-GB\"><em>arr&nbsp;</em></span>in column <em>a</em> and column <em>b</em></li>\n",
    "<li><span lang=\"EN-GB\">finally return the updated array</span></li>\n",
    "</ul>\n",
    "<p>For example, given arr:</p>\n",
    "<pre>[[ 0, 1,  2,  3],<br /> [ 4, 5,  6,  7],<br /> [ 8, 9,  10, 11],<br /> [12, 13, 14, 15]]</pre>\n",
    "<p>Calling swap(arr,0,2) results in:</p>\n",
    "<pre>[[ 2, 1,  0,  3],<br /> [ 6, 5,  4,  7],<br /> [10, 9,  8,  11],<br /> [14, 13, 12, 15]]</pre>"
   ]
  },
  {
   "cell_type": "code",
   "execution_count": 32,
   "metadata": {},
   "outputs": [],
   "source": [
    "#your solution\n",
    "def swap(arr, a, b):\n",
    "    arrc = arr.copy()\n",
    "    arrc[:,a]=arr[:,b]\n",
    "    arrc[:,b]=arr[:,a]\n",
    "    return arrc"
   ]
  },
  {
   "cell_type": "markdown",
   "metadata": {},
   "source": [
    "Show how you test the correctness of your code below:"
   ]
  },
  {
   "cell_type": "code",
   "execution_count": 33,
   "metadata": {},
   "outputs": [
    {
     "data": {
      "text/plain": [
       "array([[ 2,  1,  0,  3],\n",
       "       [ 6,  5,  4,  7],\n",
       "       [10,  9,  8, 11],\n",
       "       [14, 13, 12, 15]])"
      ]
     },
     "execution_count": 33,
     "metadata": {},
     "output_type": "execute_result"
    }
   ],
   "source": [
    "swap(np.array([[ 0, 1,  2,  3],\n",
    " [ 4, 5,  6,  7],\n",
    " [ 8, 9,  10, 11],\n",
    " [12, 13, 14, 15]]), 0,2)"
   ]
  },
  {
   "cell_type": "markdown",
   "metadata": {},
   "source": [
    "### Q4"
   ]
  },
  {
   "cell_type": "markdown",
   "metadata": {},
   "source": [
    "Create a function named `slot()` which will\n",
    "<ul>\n",
    "<li><span lang=\"EN-GB\">take in 3 arguments, a 3d array&nbsp;<em>arr</em>, integers&nbsp;<em>a&nbsp;</em>and&nbsp;<em>b</em></span></li>\n",
    "<li>it will then copy the contents in sheet a and insert into position b</li>\n",
    "<li><span lang=\"EN-GB\">finally return the updated array</span></li>\n",
    "</ul>\n",
    "<p>For example, given arr:</p>\n",
    "<pre>[[[11, 12],\n",
    " [13, 14]],\n",
    "\n",
    " [[21, 22],\n",
    " [23, 23]]]</pre>\n",
    "<p>Calling slot(arr,1,0) results in:</p>\n",
    "<pre>[[[21, 22],\n",
    "  [23, 23]],\n",
    "\n",
    "  [[11, 12],\n",
    "  [13, 14]],\n",
    "  \n",
    "  [[21, 22],\n",
    "  [23, 23]]]</pre>"
   ]
  },
  {
   "cell_type": "code",
   "execution_count": 46,
   "metadata": {},
   "outputs": [],
   "source": [
    "#your solution\n",
    "def slot(arr, a, b):\n",
    "    arrc = arr.copy()\n",
    "    arrc = np.insert(arrc,b,arr[a],axis=0)\n",
    "    return arrc"
   ]
  },
  {
   "cell_type": "markdown",
   "metadata": {},
   "source": [
    "Show how you test the correctness of your code below:"
   ]
  },
  {
   "cell_type": "code",
   "execution_count": 47,
   "metadata": {},
   "outputs": [
    {
     "data": {
      "text/plain": [
       "array([[[21, 22],\n",
       "        [23, 23]],\n",
       "\n",
       "       [[11, 12],\n",
       "        [13, 14]],\n",
       "\n",
       "       [[21, 22],\n",
       "        [23, 23]]])"
      ]
     },
     "execution_count": 47,
     "metadata": {},
     "output_type": "execute_result"
    }
   ],
   "source": [
    "slot(np.array([[[11, 12],\n",
    " [13, 14]],\n",
    "\n",
    " [[21, 22],\n",
    " [23, 23]]]),1,0)"
   ]
  },
  {
   "cell_type": "markdown",
   "metadata": {},
   "source": [
    "### Q5"
   ]
  },
  {
   "cell_type": "markdown",
   "metadata": {},
   "source": [
    "Create a function named `create3d()` which will\n",
    "<ul>\n",
    "<li><span lang=\"EN-GB\">take in a integers <i>n</i></span></li>\n",
    "<li>it will then create a 3d array of <em>n</em> by <em>n</em> by <em>n</em> with random integer values of range [1,99]</li>\n",
    "<li><span lang=\"EN-GB\">finally return the updated array</span></li>\n",
    "</ul>\n",
    "<p>For example, calling create3d(2) may result in:</p>\n",
    "<pre>[[[ 5, 82],\n",
    "  [15, 30]],\n",
    "\n",
    "  [[ 1, 36],\n",
    "   [65, 74]]]</pre>\n",
    "<p>Calling create3d(3) may result in:</p>\n",
    "<pre>[[[97, 21, 49],\n",
    "  [70, 11, 63],\n",
    "  [41, 57, 93]],\n",
    "\n",
    " [[75, 66, 27],\n",
    "  [12, 28, 17],\n",
    "  [65, 67, 82]],\n",
    "\n",
    " [[67, 97, 60],\n",
    "  [72, 36, 24],\n",
    "  [26, 82, 26]]]</pre>"
   ]
  },
  {
   "cell_type": "code",
   "execution_count": null,
   "metadata": {},
   "outputs": [],
   "source": [
    "#your solution\n"
   ]
  },
  {
   "cell_type": "markdown",
   "metadata": {},
   "source": [
    "Show how you test the correctness of your code below:"
   ]
  },
  {
   "cell_type": "code",
   "execution_count": null,
   "metadata": {},
   "outputs": [],
   "source": []
  },
  {
   "cell_type": "code",
   "execution_count": null,
   "metadata": {},
   "outputs": [],
   "source": []
  },
  {
   "cell_type": "code",
   "execution_count": null,
   "metadata": {},
   "outputs": [],
   "source": []
  },
  {
   "cell_type": "markdown",
   "metadata": {},
   "source": [
    "### Q6"
   ]
  },
  {
   "cell_type": "markdown",
   "metadata": {},
   "source": [
    "Create a function named `verticalStack()` which will\n",
    "<ul>\n",
    "<li>take in a 3d array from create3d() from question 5</li>\n",
    "<li>it will then stack the sheets in the array from create3d() in reverse order, resulting in a 2d array.</li>\n",
    "<li><span lang=\"EN-GB\">finally return the 2d array</span></li>\n",
    "</ul>\n",
    "<p>For example, create3d(3) may result in:</p>\n",
    "<pre>      [[[29, 32, 35],\n",
    "        [89, 59, 77],\n",
    "        [37, 87, 80]],\n",
    "\n",
    "       [[75, 95, 39],\n",
    "        [14, 79, 83],\n",
    "        [67, 25, 31]],\n",
    "\n",
    "       [[81, 61, 10],\n",
    "        [35, 60,  3],\n",
    "        [93, 17, 91]]]</pre>\n",
    "<p>Calling verticalStack(create3d(3)) will result in:</p>\n",
    "<pre>      [[81, 61, 10],\n",
    "       [35, 60,  3],\n",
    "       [93, 17, 91],\n",
    "       [75, 95, 39],\n",
    "       [14, 79, 83],\n",
    "       [67, 25, 31],\n",
    "       [29, 32, 35],\n",
    "       [89, 59, 77],\n",
    "       [37, 87, 80]]</pre>"
   ]
  },
  {
   "cell_type": "code",
   "execution_count": null,
   "metadata": {},
   "outputs": [],
   "source": [
    "#your solution\n"
   ]
  },
  {
   "cell_type": "markdown",
   "metadata": {},
   "source": [
    "Show how you test the correctness of your code below:"
   ]
  },
  {
   "cell_type": "code",
   "execution_count": null,
   "metadata": {},
   "outputs": [],
   "source": []
  },
  {
   "cell_type": "code",
   "execution_count": null,
   "metadata": {},
   "outputs": [],
   "source": []
  },
  {
   "cell_type": "code",
   "execution_count": null,
   "metadata": {},
   "outputs": [],
   "source": []
  }
 ],
 "metadata": {
  "kernelspec": {
   "display_name": "Python 3",
   "language": "python",
   "name": "python3"
  },
  "language_info": {
   "codemirror_mode": {
    "name": "ipython",
    "version": 3
   },
   "file_extension": ".py",
   "mimetype": "text/x-python",
   "name": "python",
   "nbconvert_exporter": "python",
   "pygments_lexer": "ipython3",
   "version": "3.7.6"
  }
 },
 "nbformat": 4,
 "nbformat_minor": 2
}
