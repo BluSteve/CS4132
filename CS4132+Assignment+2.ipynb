{
 "cells": [
  {
   "cell_type": "markdown",
   "metadata": {},
   "source": [
    "<P> <img src=\"https://i.ibb.co/gyNf19D/nhslogo.png\" alt=\"nhslogo\" border=\"0\" width=\"100\" align=\"right\"><font size=\"6\"><b> CS4132 Data Analytics</b> </font>"
   ]
  },
  {
   "cell_type": "markdown",
   "metadata": {},
   "source": [
    "# Assignment 2 [35 marks]"
   ]
  },
  {
   "cell_type": "markdown",
   "metadata": {},
   "source": [
    "### Instructions\n",
    "\n",
    "<ul>\n",
    "<li>Complete the functions/code as stated in each part of the question. Upload your `.ipynb` file to Coursemology. Name the file in the following format: Assignment2<b>YourName</b>.ipynb\n",
    "</li>\n",
    "<li>For this assignment, all relevant imports has been done for you. You may NOT use any other imports to solve the assignment.</li>\n",
    "<li>For all of the questions below, you should MINIMIZE the use ANY loops or list/dictionary comprehensions. You should be able to solve most of the questions by only calling functions on numpy or pandas objects. Any use of loop should not involve any real logic in calculating/summarizing data. The goal of this assignment is to use numpy/pandas as a tool to help answer questions about your dataset. You may however use loops to speed up some processes such as repetitive plottings.</li>\n",
    "<li>Marks will be penalized for code that uses loops unnecessary. Efficiency and code elegance will be part of grading criteria.</li>\n",
    "</ul>"
   ]
  },
  {
   "cell_type": "markdown",
   "metadata": {},
   "source": [
    "In this assignment, you will be doing some analysis on the resale flat prices in Singapore.\n",
    "The data required is given the 4 .csv files."
   ]
  },
  {
   "cell_type": "code",
   "execution_count": null,
   "metadata": {},
   "outputs": [],
   "source": [
    "import numpy as np, pandas as pd\n",
    "import matplotlib.pyplot as plt\n",
    "import seaborn as sns"
   ]
  },
  {
   "cell_type": "markdown",
   "metadata": {},
   "source": [
    "### Question 1: Guided EDA [25 marks]"
   ]
  },
  {
   "cell_type": "markdown",
   "metadata": {},
   "source": [
    "#### a) Import all the data from the 4 given .csv files into ONE dataframe named `df`."
   ]
  },
  {
   "cell_type": "code",
   "execution_count": null,
   "metadata": {},
   "outputs": [],
   "source": [
    "#your solution\n"
   ]
  },
  {
   "cell_type": "markdown",
   "metadata": {},
   "source": [
    "#### b) Use relevant code to find out which columns in `df` contains missing data, and how many records are affected by missing data."
   ]
  },
  {
   "cell_type": "code",
   "execution_count": null,
   "metadata": {},
   "outputs": [],
   "source": [
    "#your solution\n"
   ]
  },
  {
   "cell_type": "markdown",
   "metadata": {},
   "source": [
    "#### c) List down the records with missing data into one dataframe named `missing`."
   ]
  },
  {
   "cell_type": "code",
   "execution_count": null,
   "metadata": {},
   "outputs": [],
   "source": [
    "#your solution\n"
   ]
  },
  {
   "cell_type": "markdown",
   "metadata": {},
   "source": [
    "#### d) Based on the missing records found in (c), state clearly how you wish to deal with each of the missing record. Justify why this approach is adopted (and why it is \"better\" than other approaches)."
   ]
  },
  {
   "cell_type": "code",
   "execution_count": null,
   "metadata": {},
   "outputs": [],
   "source": [
    "#your solution\n"
   ]
  },
  {
   "cell_type": "markdown",
   "metadata": {},
   "source": [
    "#### e) There is some inconsistencies in the naming of flat_type. Some flats are labelled 'MULTI GENERATION' while some are labelled 'MULTI-GENERATION'.\n",
    "Update all records to have consistent naming using label 'MULTI-GENERATION'."
   ]
  },
  {
   "cell_type": "code",
   "execution_count": null,
   "metadata": {},
   "outputs": [],
   "source": [
    "#your solution\n"
   ]
  },
  {
   "cell_type": "markdown",
   "metadata": {},
   "source": [
    "#### f) Add a new column named `remaining_lease` which will state down the number of years remaining for lease.\n",
    "remaining lease is calculated by `99 - (current year - lease commence date)`. \n",
    "\n",
    "Display `df` to show the updates. Sort the data by descending order of `remaining_lease`."
   ]
  },
  {
   "cell_type": "code",
   "execution_count": null,
   "metadata": {
    "scrolled": true
   },
   "outputs": [],
   "source": [
    "#your solution\n"
   ]
  },
  {
   "cell_type": "markdown",
   "metadata": {},
   "source": [
    "#### g) We would like to categorize the flats into 3 equal categories based on the `remaining_lease` (i.e. New, Moderate and Old flats). The higher the remaing_lease, the newer the flats.\n",
    "\n",
    "Write relevant code to categorize the data, and add in a new column `flat_age_type` with the new data accordingly. Display `df` to show the updates."
   ]
  },
  {
   "cell_type": "code",
   "execution_count": null,
   "metadata": {
    "scrolled": true
   },
   "outputs": [],
   "source": [
    "#your solution\n"
   ]
  },
  {
   "cell_type": "markdown",
   "metadata": {},
   "source": [
    "Using relevant code, summarize the number of flats in each category below."
   ]
  },
  {
   "cell_type": "code",
   "execution_count": null,
   "metadata": {},
   "outputs": [],
   "source": [
    "#your solution\n"
   ]
  },
  {
   "cell_type": "markdown",
   "metadata": {},
   "source": [
    "#### h) We would like to analyze the resale price by town of certain flat_type. Summarize the average resale price by town and flat_type in a table, with price rounded to 2 dp. Store the information in a dataframe named `summary`.\n",
    "\n",
    "Sample output:\n",
    "<table border=\"1\" class=\"dataframe\">\n",
    "<thead>\n",
    "<tr>\n",
    "<th>flat_type</th>\n",
    "<th>2 ROOM</th>\n",
    "<th>3 ROOM</th>\n",
    "<th>4 ROOM</th>\n",
    "<th>5 ROOM</th>\n",
    "<th>EXECUTIVE</th>\n",
    "</tr>\n",
    "<tr>\n",
    "<th>town</th>\n",
    "<th></th>\n",
    "<th></th>\n",
    "<th></th>\n",
    "<th></th>\n",
    "<th></th>\n",
    "</tr>\n",
    "</thead>\n",
    "<tbody>\n",
    "<tr>\n",
    "<td>ANG MO KIO</td>\n",
    "<td>152518.94</td>\n",
    "<td>183332.71</td>\n",
    "<td>285422.14</td>\n",
    "<td>427887.05</td>\n",
    "<td>505929.12</td>\n",
    "</tr>\n",
    "<tr>\n",
    "<td>BEDOK</td>\n",
    "<td>125787.65</td>\n",
    "<td>178779.40</td>\n",
    "<td>264100.12</td>\n",
    "<td>378681.94</td>\n",
    "<td>483183.42</td>\n",
    "</tr>\n",
    "</tbody>\n",
    "</table>"
   ]
  },
  {
   "cell_type": "code",
   "execution_count": null,
   "metadata": {},
   "outputs": [],
   "source": [
    "#your solution\n"
   ]
  },
  {
   "cell_type": "markdown",
   "metadata": {},
   "source": [
    "#### i) Based on the information in (h), plot a bar graph for each flat_type to compare the average resale price by town. You should use a loop where appropriate to generat the graph quickly. Note to label your graph clearly (axis and title)."
   ]
  },
  {
   "cell_type": "code",
   "execution_count": null,
   "metadata": {},
   "outputs": [],
   "source": [
    "#your solution\n"
   ]
  },
  {
   "cell_type": "markdown",
   "metadata": {},
   "source": [
    "State down your observations, based on the graphs plotted."
   ]
  },
  {
   "cell_type": "markdown",
   "metadata": {},
   "source": [
    "<font color=\"blue\"><pre>Write down your answer here</pre></font>"
   ]
  },
  {
   "cell_type": "markdown",
   "metadata": {},
   "source": [
    "#### j) We would like to investigate the percentage of sales by location \"Central, East, North, North East, West\". Plot the information in a pie chart."
   ]
  },
  {
   "cell_type": "code",
   "execution_count": null,
   "metadata": {},
   "outputs": [],
   "source": [
    "#You may use the dictionary provided below for this question.\n",
    "map_location = {'ANG MO KIO': 'North East', 'BEDOK': 'East', 'BISHAN': 'Central',\n",
    "                    'BUKIT BATOK': 'West', 'BUKIT MERAH': 'Central', 'BUKIT PANJANG': 'West',\n",
    "                    'BUKIT TIMAH': 'Central', 'CENTRAL AREA': 'Central', 'CHOA CHU KANG': 'West',\n",
    "                    'CLEMENTI': 'West', 'GEYLANG': 'Central', 'HOUGANG': 'North East', 'JURONG EAST': 'West',\n",
    "                    'JURONG WEST': 'West', 'KALLANG/WHAMPOA': 'Central', 'PASIR RIS': 'East', 'PUNGGOL': 'North East',\n",
    "                    'QUEENSTOWN': 'West', 'SEMBAWANG': 'North', 'SENGKANG': 'North East', 'SERANGOON': 'North East',\n",
    "                    'TAMPINES': 'East', 'TOA PAYOH': 'Central', 'WOODLANDS': 'North', 'YISHUN': 'North',\n",
    "                    'MARINE PARADE': 'East', 'LIM CHU KANG': 'North'}"
   ]
  },
  {
   "cell_type": "code",
   "execution_count": null,
   "metadata": {},
   "outputs": [],
   "source": [
    "#your solution\n"
   ]
  },
  {
   "cell_type": "markdown",
   "metadata": {},
   "source": [
    "Hence, state which location has the highest and lowest sales count."
   ]
  },
  {
   "cell_type": "markdown",
   "metadata": {},
   "source": [
    "<font color=\"blue\"><pre>Write down your answer here</pre></font>"
   ]
  },
  {
   "cell_type": "markdown",
   "metadata": {},
   "source": [
    "#### k) For each flat type, we like to compare how the flat age affects the resale prices. Draw a relevant boxplot for the comparison."
   ]
  },
  {
   "cell_type": "code",
   "execution_count": null,
   "metadata": {
    "scrolled": true
   },
   "outputs": [],
   "source": [
    "#your solution\n"
   ]
  },
  {
   "cell_type": "markdown",
   "metadata": {},
   "source": [
    "State your observations/conclusions based on the boxplot drawn."
   ]
  },
  {
   "cell_type": "markdown",
   "metadata": {},
   "source": [
    "<font color=\"blue\"><pre>Write down your answer here</pre></font>"
   ]
  },
  {
   "cell_type": "markdown",
   "metadata": {},
   "source": [
    "### Question 2 [10 marks]"
   ]
  },
  {
   "cell_type": "markdown",
   "metadata": {},
   "source": [
    "#### a) We would like to investigate how the trend of the number of sales of resale flats has evolved over the years. \n",
    "\n",
    "Outline your analysis methodology and results (e.g. relevant table or visualization). Note to show each step clearly."
   ]
  },
  {
   "cell_type": "code",
   "execution_count": null,
   "metadata": {
    "scrolled": true
   },
   "outputs": [],
   "source": [
    "#your solution\n"
   ]
  },
  {
   "cell_type": "markdown",
   "metadata": {},
   "source": [
    "Finally, state down your observations/conclusion."
   ]
  },
  {
   "cell_type": "markdown",
   "metadata": {},
   "source": [
    "<font color=\"blue\"><pre>Write down your answer here</pre></font>"
   ]
  },
  {
   "cell_type": "markdown",
   "metadata": {},
   "source": [
    "#### b) You are to shortlist a question you wish to investigate (and not already covered in Question 1 or 2a) based on the data given."
   ]
  },
  {
   "cell_type": "markdown",
   "metadata": {},
   "source": [
    "i) State your question."
   ]
  },
  {
   "cell_type": "markdown",
   "metadata": {},
   "source": [
    "<font color=\"blue\"><pre>Write down your question here</pre></font>"
   ]
  },
  {
   "cell_type": "markdown",
   "metadata": {},
   "source": [
    "ii) Outline your analysis methodology and results (e.g. relevant table or visualization). Note to show each step clearly."
   ]
  },
  {
   "cell_type": "code",
   "execution_count": null,
   "metadata": {},
   "outputs": [],
   "source": [
    "#your solution\n"
   ]
  },
  {
   "cell_type": "markdown",
   "metadata": {},
   "source": [
    "iii) Finally, answer the question based on the results from (ii)"
   ]
  },
  {
   "cell_type": "markdown",
   "metadata": {},
   "source": [
    "<font color=\"blue\"><pre>Write down your answer here</pre></font>"
   ]
  },
  {
   "cell_type": "markdown",
   "metadata": {},
   "source": [
    "<hr>\n",
    "© NUS High School of Math & Science"
   ]
  }
 ],
 "metadata": {
  "kernelspec": {
   "display_name": "Python 3",
   "language": "python",
   "name": "python3"
  },
  "language_info": {
   "codemirror_mode": {
    "name": "ipython",
    "version": 3
   },
   "file_extension": ".py",
   "mimetype": "text/x-python",
   "name": "python",
   "nbconvert_exporter": "python",
   "pygments_lexer": "ipython3",
   "version": "3.7.6"
  }
 },
 "nbformat": 4,
 "nbformat_minor": 2
}
