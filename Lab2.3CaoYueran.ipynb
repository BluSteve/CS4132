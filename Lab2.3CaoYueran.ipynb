{
 "cells": [
  {
   "cell_type": "markdown",
   "metadata": {},
   "source": [
    "<P> <img src=\"https://i.ibb.co/gyNf19D/nhslogo.png\" alt=\"nhslogo\" border=\"0\" width=\"100\" align=\"right\"><font size=\"6\"><b> CS4132 Data Analytics</b> </font>"
   ]
  },
  {
   "cell_type": "markdown",
   "metadata": {},
   "source": [
    "# Lab 2.3: NumPy Array"
   ]
  },
  {
   "cell_type": "markdown",
   "metadata": {},
   "source": [
    "## (Section 2.4) Operations on NumPy"
   ]
  },
  {
   "cell_type": "markdown",
   "metadata": {},
   "source": [
    "Complete the following questions and upload your `.ipynb` file to Coursemology.\n",
    "\n",
    "Name the file in the following format:\n",
    "\n",
    "`Lab<Num><YourName>.ipynb`"
   ]
  },
  {
   "cell_type": "markdown",
   "metadata": {},
   "source": [
    "### Q1"
   ]
  },
  {
   "cell_type": "markdown",
   "metadata": {},
   "source": [
    "Use the numpy array created below to answer the questions below."
   ]
  },
  {
   "cell_type": "code",
   "execution_count": 1,
   "metadata": {},
   "outputs": [],
   "source": [
    "import numpy as np\n",
    "data = np.array([[ 80842, 333008, 202553, 140037,  81969],\n",
    "       [ 63857,  42105, 261540, 481981, 176739],\n",
    "       [489984, 326386, 110795, 394863,  25024],\n",
    "       [ 38317,  49982, 408830, 485118,  16119],\n",
    "       [407675, 231729, 265455, 109413, 103399],\n",
    "       [174677, 343356, 301717, 224120, 401101],\n",
    "       [140473, 254634, 112262,  25063, 108262],\n",
    "       [375059, 406983, 208947, 115641, 296685],\n",
    "       [444899, 129585, 171318, 313094, 425041],\n",
    "       [188411, 335140, 141681,  59641, 211420],\n",
    "       [287650,   8973, 477425, 382803, 465168],\n",
    "       [  3975,  32213, 160603, 275485, 388234],\n",
    "       [246225,  56174, 244097,   9350, 496966],\n",
    "       [225516, 273338,  73335, 283013, 212813],\n",
    "       [ 38175, 282399, 318413, 337639, 379802],\n",
    "       [198049, 101115, 419547, 260219, 325793],\n",
    "       [148593, 425024, 348570, 117968, 107007],\n",
    "       [ 52547, 180346, 178760, 305186, 262153],\n",
    "       [ 11835, 449971, 494184, 472031, 353049],\n",
    "       [476442,  35455, 191553, 384154,  29917]])"
   ]
  },
  {
   "cell_type": "markdown",
   "metadata": {},
   "source": [
    "Find the average value of the second column (to two decimal places)."
   ]
  },
  {
   "cell_type": "code",
   "execution_count": 9,
   "metadata": {
    "scrolled": true
   },
   "outputs": [
    {
     "data": {
      "text/plain": [
       "214895.8"
      ]
     },
     "execution_count": 9,
     "metadata": {},
     "output_type": "execute_result"
    }
   ],
   "source": [
    "round(np.mean(data, axis=0,dtype=np.float64)[1], 2)"
   ]
  },
  {
   "cell_type": "markdown",
   "metadata": {},
   "source": [
    "Find the average value of the first 5 rows of the third and fourth columns."
   ]
  },
  {
   "cell_type": "code",
   "execution_count": 8,
   "metadata": {},
   "outputs": [
    {
     "data": {
      "text/plain": [
       "array([171295. , 371760.5, 252829. , 446974. , 187434. ])"
      ]
     },
     "execution_count": 8,
     "metadata": {},
     "output_type": "execute_result"
    }
   ],
   "source": [
    "np.mean(data[:5, 2:4], axis = 1)"
   ]
  },
  {
   "cell_type": "markdown",
   "metadata": {},
   "source": [
    "Find the median value of the last column."
   ]
  },
  {
   "cell_type": "code",
   "execution_count": 12,
   "metadata": {},
   "outputs": [
    {
     "data": {
      "text/plain": [
       "237483.0"
      ]
     },
     "execution_count": 12,
     "metadata": {},
     "output_type": "execute_result"
    }
   ],
   "source": [
    "np.median(data[:, -1], axis=0)"
   ]
  },
  {
   "cell_type": "markdown",
   "metadata": {},
   "source": [
    "Find the sum of all values in the array."
   ]
  },
  {
   "cell_type": "code",
   "execution_count": 13,
   "metadata": {},
   "outputs": [
    {
     "data": {
      "text/plain": [
       "23526182"
      ]
     },
     "execution_count": 13,
     "metadata": {},
     "output_type": "execute_result"
    }
   ],
   "source": [
    "np.sum(data)"
   ]
  },
  {
   "cell_type": "markdown",
   "metadata": {},
   "source": [
    "Find the minimum value in the array."
   ]
  },
  {
   "cell_type": "code",
   "execution_count": 14,
   "metadata": {},
   "outputs": [
    {
     "data": {
      "text/plain": [
       "3975"
      ]
     },
     "execution_count": 14,
     "metadata": {},
     "output_type": "execute_result"
    }
   ],
   "source": [
    "np.min(data)"
   ]
  },
  {
   "cell_type": "markdown",
   "metadata": {},
   "source": [
    "Find the sum of the first and last column. Then multiply each element by 5."
   ]
  },
  {
   "cell_type": "code",
   "execution_count": 17,
   "metadata": {},
   "outputs": [
    {
     "data": {
      "text/plain": [
       "array([2074885, 1094220, 1757050,  330505, 1675640, 3722285, 1814480,\n",
       "       3518340, 2773130, 2732800, 2370705, 2102235, 2765700, 2430755,\n",
       "       3311005, 2134540, 2660155, 2212495, 4015100,  326860])"
      ]
     },
     "execution_count": 17,
     "metadata": {},
     "output_type": "execute_result"
    }
   ],
   "source": [
    "(data[:,1] + data[:,-1])*[5]"
   ]
  },
  {
   "cell_type": "markdown",
   "metadata": {},
   "source": [
    "Find the sum of all even rows."
   ]
  },
  {
   "cell_type": "code",
   "execution_count": 21,
   "metadata": {},
   "outputs": [
    {
     "data": {
      "text/plain": [
       "11138928"
      ]
     },
     "execution_count": 21,
     "metadata": {},
     "output_type": "execute_result"
    }
   ],
   "source": [
    "np.sum(data[1::2,:])"
   ]
  },
  {
   "cell_type": "markdown",
   "metadata": {},
   "source": [
    "### Q2"
   ]
  },
  {
   "cell_type": "markdown",
   "metadata": {},
   "source": [
    "Using the concept of array broadcasting, create a 2d array for 5 by 5 multiplication table."
   ]
  },
  {
   "cell_type": "code",
   "execution_count": 26,
   "metadata": {},
   "outputs": [
    {
     "data": {
      "text/plain": [
       "array([[ 1,  2,  3,  4,  5],\n",
       "       [ 2,  4,  6,  8, 10],\n",
       "       [ 3,  6,  9, 12, 15],\n",
       "       [ 4,  8, 12, 16, 20],\n",
       "       [ 5, 10, 15, 20, 25]])"
      ]
     },
     "execution_count": 26,
     "metadata": {},
     "output_type": "execute_result"
    }
   ],
   "source": [
    "r1,r2 = np.array([1,2,3,4,5]), np.array([[x] for x in range(1,6)])\n",
    "r1*r2"
   ]
  },
  {
   "cell_type": "markdown",
   "metadata": {},
   "source": [
    "### Q3"
   ]
  },
  {
   "cell_type": "markdown",
   "metadata": {},
   "source": [
    "You are given 2 lists containing the weight (in kg) and height (in m) of 20 individuals.\n",
    "\n",
    "Calculate their BMI and store it in a 1d array.\n",
    "\n",
    "BMI Formula: weight (kg) / [height (m)]^2"
   ]
  },
  {
   "cell_type": "code",
   "execution_count": 27,
   "metadata": {},
   "outputs": [],
   "source": [
    "weight = [57, 54, 21, 54, 42, 44, 26, 30, 34, 44, 31, 39, 44, 28, 40, 58, 40, 24, 47, 57]\n",
    "height = [1.22, 1.63, 1.74, 1.65, 1.73, 1.79, 1.72, 1.31, 1.76, 1.01, 1.36, 1.17, 1.11, 1.  , 1.56, 1.12, 1.35, 1.05, 1.23, 1.09]"
   ]
  },
  {
   "cell_type": "code",
   "execution_count": 36,
   "metadata": {
    "scrolled": true
   },
   "outputs": [
    {
     "data": {
      "text/plain": [
       "array([38.29615695, 20.32443826,  6.93618708, 19.83471074, 14.03321193,\n",
       "       13.73240536,  8.78853434, 17.48149875, 10.97623967, 43.13302617,\n",
       "       16.76038062, 28.49002849, 35.71138706, 28.        , 16.4365549 ,\n",
       "       46.2372449 , 21.9478738 , 21.76870748, 31.06616432, 47.97575962])"
      ]
     },
     "execution_count": 36,
     "metadata": {},
     "output_type": "execute_result"
    }
   ],
   "source": [
    "w, h = np.array(weight), np.array(height)\n",
    "res = w/(h**2)\n",
    "res"
   ]
  },
  {
   "cell_type": "markdown",
   "metadata": {},
   "source": [
    "### Q4"
   ]
  },
  {
   "cell_type": "markdown",
   "metadata": {},
   "source": [
    "You are given a list containing temperature in celsius. \n",
    "\n",
    "Convert the data into fahrenheit and store it in a 1d array.\n",
    "\n",
    "Formula: °F = (°C ×  9 / 5 ) + 32 "
   ]
  },
  {
   "cell_type": "code",
   "execution_count": 32,
   "metadata": {},
   "outputs": [],
   "source": [
    "celsius = [39.5, 21.8, 34.5, 25.1, 16.4, 15.8, 26.7, 31.6, 15.6, 21.8, 13.7, 48.7, 13.8, 46.1, 25.3, 43.4, 35.2, 19.4, 18.6, 16.3, 20.8, 15.9, 42. , 14.9, 20.6, 18.9, 30. , 12.9, 44. , 49.6]"
   ]
  },
  {
   "cell_type": "code",
   "execution_count": 38,
   "metadata": {},
   "outputs": [
    {
     "data": {
      "text/plain": [
       "array([103.1 ,  71.24,  94.1 ,  77.18,  61.52,  60.44,  80.06,  88.88,\n",
       "        60.08,  71.24,  56.66, 119.66,  56.84, 114.98,  77.54, 110.12,\n",
       "        95.36,  66.92,  65.48,  61.34,  69.44,  60.62, 107.6 ,  58.82,\n",
       "        69.08,  66.02,  86.  ,  55.22, 111.2 , 121.28])"
      ]
     },
     "execution_count": 38,
     "metadata": {},
     "output_type": "execute_result"
    }
   ],
   "source": [
    "c = np.array(celsius)\n",
    "d = c*9/5+32\n",
    "d"
   ]
  },
  {
   "cell_type": "markdown",
   "metadata": {},
   "source": [
    "### Q5"
   ]
  },
  {
   "cell_type": "markdown",
   "metadata": {},
   "source": [
    "The quiz scores of class A and class B is given in the 3d array below.\n",
    "\n",
    "Each class has 20 students, and there are a total of 3 quizzes."
   ]
  },
  {
   "cell_type": "code",
   "execution_count": 39,
   "metadata": {},
   "outputs": [],
   "source": [
    "scores = np.array([[[91, 55, 84],\n",
    "                    [69, 12, 70],\n",
    "                    [84, 75, 33],\n",
    "                    [21, 91,  2],\n",
    "                    [12, 60, 40],\n",
    "                    [42, 91, 51],\n",
    "                    [26, 47, 85],\n",
    "                    [ 8, 21, 73],\n",
    "                    [85, 12, 22],\n",
    "                    [ 2, 79, 73],\n",
    "                    [57, 74, 20],\n",
    "                    [23, 98, 82],\n",
    "                    [23, 73, 33],\n",
    "                    [58, 81, 71],\n",
    "                    [66, 74, 12],\n",
    "                    [85, 16, 68],\n",
    "                    [44, 26,  5],\n",
    "                    [15, 13, 32],\n",
    "                    [86, 67,  1],\n",
    "                    [66,  8, 34]],\n",
    "\n",
    "                   [[40, 37, 15],\n",
    "                    [53, 73, 64],\n",
    "                    [73, 90, 10],\n",
    "                    [95, 94, 32],\n",
    "                    [46, 20, 44],\n",
    "                    [12, 86, 24],\n",
    "                    [17, 20, 15],\n",
    "                    [87, 51,  5],\n",
    "                    [63, 82,  2],\n",
    "                    [66,  9, 29],\n",
    "                    [59, 24, 32],\n",
    "                    [43, 43, 65],\n",
    "                    [62,  6, 86],\n",
    "                    [92, 29,  7],\n",
    "                    [47, 76, 15],\n",
    "                    [46, 56, 70],\n",
    "                    [74, 80, 50],\n",
    "                    [42, 91, 14],\n",
    "                    [92, 13, 17],\n",
    "                    [76,  2, 54]]])"
   ]
  },
  {
   "cell_type": "markdown",
   "metadata": {},
   "source": [
    "Find the average of each quiz for each class."
   ]
  },
  {
   "cell_type": "code",
   "execution_count": 60,
   "metadata": {
    "scrolled": false
   },
   "outputs": [
    {
     "data": {
      "text/plain": [
       "array([[48.15, 53.65, 44.55],\n",
       "       [59.25, 49.1 , 32.5 ]])"
      ]
     },
     "execution_count": 60,
     "metadata": {},
     "output_type": "execute_result"
    }
   ],
   "source": [
    "np.mean(scores, axis = 1)"
   ]
  },
  {
   "cell_type": "markdown",
   "metadata": {},
   "source": [
    "Find the average of quiz score of each student in class B."
   ]
  },
  {
   "cell_type": "code",
   "execution_count": 48,
   "metadata": {
    "scrolled": true
   },
   "outputs": [
    {
     "data": {
      "text/plain": [
       "array([30.66666667, 63.33333333, 57.66666667, 73.66666667, 36.66666667,\n",
       "       40.66666667, 17.33333333, 47.66666667, 49.        , 34.66666667,\n",
       "       38.33333333, 50.33333333, 51.33333333, 42.66666667, 46.        ,\n",
       "       57.33333333, 68.        , 49.        , 40.66666667, 44.        ])"
      ]
     },
     "execution_count": 48,
     "metadata": {},
     "output_type": "execute_result"
    }
   ],
   "source": [
    "np.mean(scores[1], axis=1)"
   ]
  },
  {
   "cell_type": "markdown",
   "metadata": {},
   "source": [
    "Find the max scorer for quiz 3 for the respective classes."
   ]
  },
  {
   "cell_type": "code",
   "execution_count": 53,
   "metadata": {},
   "outputs": [
    {
     "data": {
      "text/plain": [
       "array([85, 86])"
      ]
     },
     "execution_count": 53,
     "metadata": {},
     "output_type": "execute_result"
    }
   ],
   "source": [
    "np.max(scores[:,:,2], axis=1)"
   ]
  },
  {
   "cell_type": "markdown",
   "metadata": {},
   "source": [
    "Find the median score for quiz 2 for each class."
   ]
  },
  {
   "cell_type": "code",
   "execution_count": 54,
   "metadata": {},
   "outputs": [
    {
     "data": {
      "text/plain": [
       "array([63.5, 47. ])"
      ]
     },
     "execution_count": 54,
     "metadata": {},
     "output_type": "execute_result"
    }
   ],
   "source": [
    "np.median(scores[:,:,1], axis=1)"
   ]
  }
 ],
 "metadata": {
  "kernelspec": {
   "display_name": "Python 3",
   "language": "python",
   "name": "python3"
  },
  "language_info": {
   "codemirror_mode": {
    "name": "ipython",
    "version": 3
   },
   "file_extension": ".py",
   "mimetype": "text/x-python",
   "name": "python",
   "nbconvert_exporter": "python",
   "pygments_lexer": "ipython3",
   "version": "3.7.6"
  }
 },
 "nbformat": 4,
 "nbformat_minor": 2
}
