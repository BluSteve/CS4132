{
 "cells": [
  {
   "cell_type": "markdown",
   "metadata": {},
   "source": [
    "# The Efficacy of Body-Mass Index and Child Mortality Rate in Indicating the Causes of Mortality in a Country"
   ]
  },
  {
   "cell_type": "markdown",
   "metadata": {},
   "source": [
    "By Cao Yueran"
   ]
  },
  {
   "cell_type": "markdown",
   "metadata": {},
   "source": [
    "## Table of Contents\n",
    "1. [Introduction](#intro)\n",
    "2. [Methodology](#methodology)\n",
    "    1. [Data Acquisition](#acquisition)\n",
    "    2. Data Wrangling\n",
    "3. Questions\n",
    "    1. How has the leading cause of mortality in a country changed over time?\n",
    "    2. How does the average BMI of a country correlate with the leading cause of mortality in that country at any point in time?\n",
    "    3. How does the average Child Mortality Rate (CMR) of a country correlate with the leading cause of mortality in that country at any point in time?\n",
    "    4. Using an index consisting of BMI and CMR, is it possible to create an ordinal list of leading causes of death as a country becomes more \"developed\"?"
   ]
  },
  {
   "cell_type": "markdown",
   "metadata": {},
   "source": [
    "## Introduction\n",
    "<a id = 'intro'></a>"
   ]
  },
  {
   "cell_type": "markdown",
   "metadata": {},
   "source": [
    "[Previous studies](https://www.who.int/data/gho/indicator-metadata-registry/imr-details/90) on years of lives lost  have shown that in general, the lives of the citizens of more developed countries are cut short due to degenerative diseases such as stroke and heart disease, while for developing countries, disease still remains a leading cause of death. However, previous measurements of \"development\" use GDP per capita or qualitative analysis which does not take into account the inequality of a country. <b>This projects attempts to find a correlation between the causes of mortality and two indexes that are relatively resistant to inequality, BMI and CMR.</b>\n",
    "\n",
    "Specific causes of mortality is generally a very difficult type of census data to gather, especially for less financially capable countries. These countries also tend to be the ones most in need of accurate data as to why their citizens are dying young. If BMI and CMR, two widely availabe indexes could accurately indicate a country's developmental status in regards to healthcare (as reflected in causes of mortality), then countries would be able to use them as a basis for targeted healthcare policies instead of causes of mortality."
   ]
  },
  {
   "cell_type": "markdown",
   "metadata": {},
   "source": [
    "## Methodology\n",
    "<a id='methodology'/>"
   ]
  },
  {
   "cell_type": "markdown",
   "metadata": {},
   "source": [
    "### Data Acquisition\n",
    "<a id='acquisition'/>"
   ]
  },
  {
   "cell_type": "code",
   "execution_count": null,
   "metadata": {},
   "outputs": [],
   "source": []
  }
 ],
 "metadata": {
  "kernelspec": {
   "display_name": "Python 3",
   "language": "python",
   "name": "python3"
  },
  "language_info": {
   "codemirror_mode": {
    "name": "ipython",
    "version": 3
   },
   "file_extension": ".py",
   "mimetype": "text/x-python",
   "name": "python",
   "nbconvert_exporter": "python",
   "pygments_lexer": "ipython3",
   "version": "3.7.6"
  }
 },
 "nbformat": 4,
 "nbformat_minor": 4
}
